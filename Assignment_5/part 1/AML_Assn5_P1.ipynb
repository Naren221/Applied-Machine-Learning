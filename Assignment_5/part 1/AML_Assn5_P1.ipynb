{
  "nbformat": 4,
  "nbformat_minor": 0,
  "metadata": {
    "colab": {
      "provenance": [],
      "gpuType": "T4"
    },
    "kernelspec": {
      "name": "python3",
      "display_name": "Python 3"
    },
    "language_info": {
      "name": "python"
    },
    "accelerator": "GPU"
  },
  "cells": [
    {
      "cell_type": "markdown",
      "source": [
        "<h1 align = 'center'> Part 1: Transfer Learning for image data using CNN </h1>"
      ],
      "metadata": {
        "id": "mlWsBIyPpRNV"
      }
    },
    {
      "cell_type": "markdown",
      "source": [
        "## 1. Imports"
      ],
      "metadata": {
        "id": "fSNu49A-o_gZ"
      }
    },
    {
      "cell_type": "code",
      "source": [
        "import torch\n",
        "import torchvision\n",
        "import torchvision.transforms as transforms\n",
        "from torchvision import datasets, models\n",
        "import torch.nn as nn\n",
        "import torch.optim as optim\n",
        "from torch.utils.data import DataLoader\n",
        "from sklearn.metrics import classification_report\n",
        "import os"
      ],
      "metadata": {
        "id": "VY_qXebmhdcy"
      },
      "execution_count": null,
      "outputs": []
    },
    {
      "cell_type": "markdown",
      "source": [
        "## 2. Data Paths"
      ],
      "metadata": {
        "id": "XIedqvCepCGw"
      }
    },
    {
      "cell_type": "code",
      "source": [
        "train_path = \"/content/drive/MyDrive/AML_Assignment_5/dataset/train\"\n",
        "val_path = \"/content/drive/MyDrive/AML_Assignment_5/dataset/val\"\n",
        "test_path = \"/content/drive/MyDrive/AML_Assignment_5/dataset/test\""
      ],
      "metadata": {
        "id": "0Y7YdXR4hkAf"
      },
      "execution_count": null,
      "outputs": []
    },
    {
      "cell_type": "markdown",
      "source": [
        "## 3. Transforms and Dataloaders"
      ],
      "metadata": {
        "id": "9AQw7JK7pJlw"
      }
    },
    {
      "cell_type": "code",
      "source": [
        "transform = transforms.Compose([\n",
        "    transforms.Resize((224, 224)),\n",
        "    transforms.ToTensor(),\n",
        "    transforms.Normalize([0.485, 0.456, 0.406],\n",
        "                         [0.229, 0.224, 0.225])\n",
        "])\n",
        "\n",
        "train_dataset = datasets.ImageFolder(train_path, transform=transform)\n",
        "val_dataset = datasets.ImageFolder(val_path, transform=transform)\n",
        "test_dataset = datasets.ImageFolder(test_path, transform=transform)\n",
        "\n",
        "train_loader = DataLoader(train_dataset, batch_size=16, shuffle=True)\n",
        "val_loader = DataLoader(val_dataset, batch_size=16)\n",
        "test_loader = DataLoader(test_dataset, batch_size=16)"
      ],
      "metadata": {
        "id": "a5Qd3yeGhoeB"
      },
      "execution_count": null,
      "outputs": []
    },
    {
      "cell_type": "markdown",
      "source": [
        "## 4. Load pre-trained ResNet18 and fine-tune last layer"
      ],
      "metadata": {
        "id": "lnZHfeD6pN1P"
      }
    },
    {
      "cell_type": "code",
      "source": [
        "device = torch.device(\"cuda\" if torch.cuda.is_available() else \"cpu\")\n",
        "\n",
        "model = models.resnet18(pretrained=True)\n",
        "\n",
        "# Freeze all layers\n",
        "for param in model.parameters():\n",
        "    param.requires_grad = False\n",
        "\n",
        "# Replace last layer (fc) for binary classification\n",
        "model.fc = nn.Linear(model.fc.in_features, 1)\n",
        "\n",
        "model = model.to(device)"
      ],
      "metadata": {
        "colab": {
          "base_uri": "https://localhost:8080/"
        },
        "id": "B6D5xxUrhqxI",
        "outputId": "690f3d1a-1aeb-42a1-bf59-63e4ff4feecc"
      },
      "execution_count": null,
      "outputs": [
        {
          "output_type": "stream",
          "name": "stderr",
          "text": [
            "/usr/local/lib/python3.11/dist-packages/torchvision/models/_utils.py:208: UserWarning: The parameter 'pretrained' is deprecated since 0.13 and may be removed in the future, please use 'weights' instead.\n",
            "  warnings.warn(\n",
            "/usr/local/lib/python3.11/dist-packages/torchvision/models/_utils.py:223: UserWarning: Arguments other than a weight enum or `None` for 'weights' are deprecated since 0.13 and may be removed in the future. The current behavior is equivalent to passing `weights=ResNet18_Weights.IMAGENET1K_V1`. You can also use `weights=ResNet18_Weights.DEFAULT` to get the most up-to-date weights.\n",
            "  warnings.warn(msg)\n"
          ]
        }
      ]
    },
    {
      "cell_type": "markdown",
      "source": [
        "## 5. Training setup"
      ],
      "metadata": {
        "id": "NJeNMLgxpSGZ"
      }
    },
    {
      "cell_type": "code",
      "source": [
        "criterion = nn.BCEWithLogitsLoss()\n",
        "optimizer = optim.Adam(model.fc.parameters(), lr=0.001)"
      ],
      "metadata": {
        "id": "hVRiGNUQhtoZ"
      },
      "execution_count": null,
      "outputs": []
    },
    {
      "cell_type": "markdown",
      "source": [
        "## 6. Training Loop"
      ],
      "metadata": {
        "id": "I1WNTaL4pVmT"
      }
    },
    {
      "cell_type": "code",
      "source": [
        "train_acc_list = []\n",
        "val_acc_list = []\n",
        "\n",
        "def train_model(model, train_loader, val_loader, epochs=10):\n",
        "    for epoch in range(epochs):\n",
        "        model.train()\n",
        "        total_loss = 0\n",
        "        correct = 0\n",
        "        total = 0\n",
        "\n",
        "        for images, labels in train_loader:\n",
        "            images, labels = images.to(device), labels.to(device).float().unsqueeze(1)\n",
        "\n",
        "            optimizer.zero_grad()\n",
        "            outputs = model(images)\n",
        "            loss = criterion(outputs, labels)\n",
        "            loss.backward()\n",
        "            optimizer.step()\n",
        "\n",
        "            total_loss += loss.item()\n",
        "            preds = torch.round(torch.sigmoid(outputs))\n",
        "            correct += (preds == labels).sum().item()\n",
        "            total += labels.size(0)\n",
        "\n",
        "        train_acc = correct / total\n",
        "        val_acc = evaluate(model, val_loader)\n",
        "\n",
        "        train_acc_list.append(train_acc)\n",
        "        val_acc_list.append(val_acc)\n",
        "\n",
        "        print(f\"Epoch {epoch+1}/{epochs} | Loss: {total_loss:.4f} | Train Acc: {train_acc:.4f} | Val Acc: {val_acc:.4f}\")\n"
      ],
      "metadata": {
        "id": "SrYc3FxpiNgv"
      },
      "execution_count": null,
      "outputs": []
    },
    {
      "cell_type": "markdown",
      "source": [
        "## 7. Validation Function"
      ],
      "metadata": {
        "id": "MR4ATYXipYs5"
      }
    },
    {
      "cell_type": "code",
      "source": [
        "def evaluate(model, loader):\n",
        "    model.eval()\n",
        "    correct = 0\n",
        "    total = 0\n",
        "    with torch.no_grad():\n",
        "        for images, labels in loader:\n",
        "            images, labels = images.to(device), labels.to(device).float().unsqueeze(1)\n",
        "            outputs = model(images)\n",
        "            preds = torch.round(torch.sigmoid(outputs))\n",
        "            correct += (preds == labels).sum().item()\n",
        "            total += labels.size(0)\n",
        "    return correct / total\n"
      ],
      "metadata": {
        "id": "O7xhjI2ziOXC"
      },
      "execution_count": null,
      "outputs": []
    },
    {
      "cell_type": "markdown",
      "source": [
        "## 8. Train the model"
      ],
      "metadata": {
        "id": "x5A9DFykpc30"
      }
    },
    {
      "cell_type": "code",
      "source": [
        "train_model(model, train_loader, val_loader, epochs=15)"
      ],
      "metadata": {
        "colab": {
          "base_uri": "https://localhost:8080/"
        },
        "id": "e6ck-0I_jM4x",
        "outputId": "c0771bea-b8d0-4b38-96b8-01b86a141ace"
      },
      "execution_count": null,
      "outputs": [
        {
          "output_type": "stream",
          "name": "stdout",
          "text": [
            "Epoch 1/15 | Loss: 25.6735 | Train Acc: 0.8094 | Val Acc: 0.9006\n",
            "Epoch 2/15 | Loss: 15.1047 | Train Acc: 0.9220 | Val Acc: 0.9130\n",
            "Epoch 3/15 | Loss: 13.9243 | Train Acc: 0.9309 | Val Acc: 0.9130\n",
            "Epoch 4/15 | Loss: 12.8430 | Train Acc: 0.9342 | Val Acc: 0.9130\n",
            "Epoch 5/15 | Loss: 11.3572 | Train Acc: 0.9409 | Val Acc: 0.9130\n",
            "Epoch 6/15 | Loss: 10.2281 | Train Acc: 0.9320 | Val Acc: 0.9193\n",
            "Epoch 7/15 | Loss: 8.3006 | Train Acc: 0.9554 | Val Acc: 0.9193\n",
            "Epoch 8/15 | Loss: 10.7528 | Train Acc: 0.9443 | Val Acc: 0.9255\n",
            "Epoch 9/15 | Loss: 9.7613 | Train Acc: 0.9543 | Val Acc: 0.9193\n",
            "Epoch 10/15 | Loss: 9.5568 | Train Acc: 0.9387 | Val Acc: 0.9193\n",
            "Epoch 11/15 | Loss: 7.8152 | Train Acc: 0.9443 | Val Acc: 0.9068\n",
            "Epoch 12/15 | Loss: 7.0372 | Train Acc: 0.9565 | Val Acc: 0.9193\n",
            "Epoch 13/15 | Loss: 11.0456 | Train Acc: 0.9509 | Val Acc: 0.9255\n",
            "Epoch 14/15 | Loss: 6.5382 | Train Acc: 0.9610 | Val Acc: 0.9255\n",
            "Epoch 15/15 | Loss: 6.7194 | Train Acc: 0.9576 | Val Acc: 0.9255\n"
          ]
        }
      ]
    },
    {
      "cell_type": "markdown",
      "source": [
        "## 9. Plot of Train Accuracy Vs Validation Accuracy"
      ],
      "metadata": {
        "id": "5v-nE0u5poDb"
      }
    },
    {
      "cell_type": "code",
      "source": [
        "import matplotlib.pyplot as plt\n",
        "\n",
        "epochs_range = range(1, len(train_acc_list) + 1)\n",
        "\n",
        "plt.figure(figsize=(10, 6))\n",
        "plt.plot(epochs_range, train_acc_list, label='Train Accuracy', marker='o')\n",
        "plt.plot(epochs_range, val_acc_list, label='Validation Accuracy', marker='x')\n",
        "plt.xlabel(\"Epoch\")\n",
        "plt.ylabel(\"Accuracy\")\n",
        "plt.title(\"Training vs Validation Accuracy\")\n",
        "plt.legend()\n",
        "plt.grid(True)\n",
        "plt.show()"
      ],
      "metadata": {
        "colab": {
          "base_uri": "https://localhost:8080/",
          "height": 564
        },
        "id": "Aivi3pu-oFe6",
        "outputId": "82cd9ef8-2a76-4719-c6f3-ae016f6deadb"
      },
      "execution_count": null,
      "outputs": [
        {
          "output_type": "display_data",
          "data": {
            "text/plain": [
              "<Figure size 1000x600 with 1 Axes>"
            ],
            "image/png": "[encoded data removed]"
          },
          "metadata": {}
        }
      ]
    },
    {
      "cell_type": "markdown",
      "source": [
        "## 10. Evaluation on Test Set"
      ],
      "metadata": {
        "id": "3836cbegpuur"
      }
    },
    {
      "cell_type": "code",
      "source": [
        "model.eval()\n",
        "all_preds = []\n",
        "all_labels = []\n",
        "\n",
        "with torch.no_grad():\n",
        "    for images, labels in test_loader:\n",
        "        images = images.to(device)\n",
        "        outputs = model(images)\n",
        "        preds = torch.round(torch.sigmoid(outputs)).cpu().numpy()\n",
        "        all_preds.extend(preds.flatten())\n",
        "        all_labels.extend(labels.numpy())\n",
        "\n",
        "print(classification_report(all_labels, all_preds, target_names=['chicken', 'duck']))\n"
      ],
      "metadata": {
        "colab": {
          "base_uri": "https://localhost:8080/"
        },
        "id": "_DDa88TGnOyC",
        "outputId": "2799ed22-7590-417a-b9b5-5eb201618e2f"
      },
      "execution_count": null,
      "outputs": [
        {
          "output_type": "stream",
          "name": "stdout",
          "text": [
            "              precision    recall  f1-score   support\n",
            "\n",
            "     chicken       0.97      0.94      0.96       172\n",
            "        duck       0.97      0.98      0.98       310\n",
            "\n",
            "    accuracy                           0.97       482\n",
            "   macro avg       0.97      0.96      0.97       482\n",
            "weighted avg       0.97      0.97      0.97       482\n",
            "\n"
          ]
        }
      ]
    },
    {
      "cell_type": "markdown",
      "source": [
        "## 11. Overall Precision, Recall, F1-score, Accuracy"
      ],
      "metadata": {
        "id": "FsdxNnCRp017"
      }
    },
    {
      "cell_type": "code",
      "source": [
        "from sklearn.metrics import precision_score, recall_score, f1_score, accuracy_score\n",
        "\n",
        "precision = precision_score(all_labels, all_preds)\n",
        "recall = recall_score(all_labels, all_preds)\n",
        "f1 = f1_score(all_labels, all_preds)\n",
        "accuracy = accuracy_score(all_labels, all_preds)\n",
        "\n",
        "print(f\"✅ Overall Accuracy:  {accuracy:.4f}\")\n",
        "print(f\"✅ Overall Precision: {precision:.4f}\")\n",
        "print(f\"✅ Overall Recall:    {recall:.4f}\")\n",
        "print(f\"✅ Overall F1-score:  {f1:.4f}\")"
      ],
      "metadata": {
        "colab": {
          "base_uri": "https://localhost:8080/"
        },
        "id": "sde7seLdnxGk",
        "outputId": "84e5c5ac-51e2-4115-9c2a-21769094e220"
      },
      "execution_count": null,
      "outputs": [
        {
          "output_type": "stream",
          "name": "stdout",
          "text": [
            "✅ Overall Accuracy:  0.9689\n",
            "✅ Overall Precision: 0.9683\n",
            "✅ Overall Recall:    0.9839\n",
            "✅ Overall F1-score:  0.9760\n"
          ]
        }
      ]
    }
  ]
}